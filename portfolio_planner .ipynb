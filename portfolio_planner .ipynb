{
 "cells": [
  {
   "cell_type": "code",
   "execution_count": 1,
   "metadata": {
    "collapsed": true,
    "jupyter": {
     "outputs_hidden": true
    }
   },
   "outputs": [],
   "source": [
    "import numpy as np\n",
    "import pandas as pd\n",
    "from datetime import datetime, timedelta\n",
    "import matplotlib.pyplot as plt\n",
    "%matplotlib inline"
   ]
  },
  {
   "cell_type": "code",
   "execution_count": 2,
   "metadata": {},
   "outputs": [],
   "source": [
    "np.random.seed(42)"
   ]
  },
  {
   "cell_type": "markdown",
   "metadata": {},
   "source": [
    "# Portfolio Planner\n",
    "\n",
    "In this activity, you will use the iedfinance api to grab historical data for a 60/40 portfolio using `SPY` to represent the stock portion and `AGG` to represent the bonds."
   ]
  },
  {
   "cell_type": "code",
   "execution_count": 3,
   "metadata": {
    "collapsed": true,
    "jupyter": {
     "outputs_hidden": true
    }
   },
   "outputs": [],
   "source": [
    "from iexfinance.stocks import get_historical_data\n",
    "from iexfinance.refdata import get_symbols"
   ]
  },
  {
   "cell_type": "code",
   "execution_count": 4,
   "metadata": {},
   "outputs": [
    {
     "data": {
      "text/html": [
       "<div>\n",
       "<style scoped>\n",
       "    .dataframe tbody tr th:only-of-type {\n",
       "        vertical-align: middle;\n",
       "    }\n",
       "\n",
       "    .dataframe tbody tr th {\n",
       "        vertical-align: top;\n",
       "    }\n",
       "\n",
       "    .dataframe thead th {\n",
       "        text-align: right;\n",
       "    }\n",
       "</style>\n",
       "<table border=\"1\" class=\"dataframe\">\n",
       "  <thead>\n",
       "    <tr style=\"text-align: right;\">\n",
       "      <th></th>\n",
       "      <th>date</th>\n",
       "      <th>iexId</th>\n",
       "      <th>isEnabled</th>\n",
       "      <th>name</th>\n",
       "      <th>symbol</th>\n",
       "      <th>type</th>\n",
       "    </tr>\n",
       "  </thead>\n",
       "  <tbody>\n",
       "    <tr>\n",
       "      <th>0</th>\n",
       "      <td>2019-06-13</td>\n",
       "      <td>2</td>\n",
       "      <td>True</td>\n",
       "      <td>Agilent Technologies Inc.</td>\n",
       "      <td>A</td>\n",
       "      <td>cs</td>\n",
       "    </tr>\n",
       "    <tr>\n",
       "      <th>1</th>\n",
       "      <td>2019-06-13</td>\n",
       "      <td>12042</td>\n",
       "      <td>True</td>\n",
       "      <td>Alcoa Corporation</td>\n",
       "      <td>AA</td>\n",
       "      <td>cs</td>\n",
       "    </tr>\n",
       "    <tr>\n",
       "      <th>2</th>\n",
       "      <td>2019-06-13</td>\n",
       "      <td>14924</td>\n",
       "      <td>True</td>\n",
       "      <td>Perth Mint Physical Gold</td>\n",
       "      <td>AAAU</td>\n",
       "      <td>N/A</td>\n",
       "    </tr>\n",
       "    <tr>\n",
       "      <th>3</th>\n",
       "      <td>2019-06-13</td>\n",
       "      <td>7653</td>\n",
       "      <td>True</td>\n",
       "      <td>Altaba Inc.</td>\n",
       "      <td>AABA</td>\n",
       "      <td>cs</td>\n",
       "    </tr>\n",
       "    <tr>\n",
       "      <th>4</th>\n",
       "      <td>2019-06-13</td>\n",
       "      <td>9169</td>\n",
       "      <td>True</td>\n",
       "      <td>AAC Holdings Inc.</td>\n",
       "      <td>AAC</td>\n",
       "      <td>cs</td>\n",
       "    </tr>\n",
       "  </tbody>\n",
       "</table>\n",
       "</div>"
      ],
      "text/plain": [
       "         date  iexId  isEnabled                       name symbol type\n",
       "0  2019-06-13      2       True  Agilent Technologies Inc.      A   cs\n",
       "1  2019-06-13  12042       True          Alcoa Corporation     AA   cs\n",
       "2  2019-06-13  14924       True   Perth Mint Physical Gold   AAAU  N/A\n",
       "3  2019-06-13   7653       True                Altaba Inc.   AABA   cs\n",
       "4  2019-06-13   9169       True          AAC Holdings Inc.    AAC   cs"
      ]
     },
     "execution_count": 4,
     "metadata": {},
     "output_type": "execute_result"
    }
   ],
   "source": [
    "tickers=pd.DataFrame(get_symbols())\n",
    "tickers.type.drop_duplicates()\n",
    "# Select only the ETFs\n",
    "tickers[tickers['type'] == 'et']\n",
    "tickers.head()"
   ]
  },
  {
   "cell_type": "markdown",
   "metadata": {},
   "source": [
    "# Data Collection\n",
    "\n",
    "In this step, you will need to use the IEX api to fetch closing prices for the `SPY` and `AGG` tickers. Save the results as a pandas DataFrame"
   ]
  },
  {
   "cell_type": "code",
   "execution_count": 5,
   "metadata": {
    "collapsed": true,
    "jupyter": {
     "outputs_hidden": true
    }
   },
   "outputs": [],
   "source": [
    "#subset your tickers, then pull returns data:\n",
    "list_of_tickers = [\"SPY\", \"AGG\"]\n",
    "end = datetime.now()\n",
    "start = end + timedelta(-365)\n",
    "df = get_historical_data(list_of_tickers, start, end,  output_format='pandas')\n",
    "df.drop(columns=['open', 'high', 'low', 'volume'], level=1, inplace=True)"
   ]
  },
  {
   "cell_type": "code",
   "execution_count": 6,
   "metadata": {},
   "outputs": [
    {
     "data": {
      "text/html": [
       "<div>\n",
       "<style scoped>\n",
       "    .dataframe tbody tr th:only-of-type {\n",
       "        vertical-align: middle;\n",
       "    }\n",
       "\n",
       "    .dataframe tbody tr th {\n",
       "        vertical-align: top;\n",
       "    }\n",
       "\n",
       "    .dataframe thead tr th {\n",
       "        text-align: left;\n",
       "    }\n",
       "\n",
       "    .dataframe thead tr:last-of-type th {\n",
       "        text-align: right;\n",
       "    }\n",
       "</style>\n",
       "<table border=\"1\" class=\"dataframe\">\n",
       "  <thead>\n",
       "    <tr>\n",
       "      <th></th>\n",
       "      <th>SPY</th>\n",
       "      <th>AGG</th>\n",
       "    </tr>\n",
       "    <tr>\n",
       "      <th></th>\n",
       "      <th>close</th>\n",
       "      <th>close</th>\n",
       "    </tr>\n",
       "    <tr>\n",
       "      <th>date</th>\n",
       "      <th></th>\n",
       "      <th></th>\n",
       "    </tr>\n",
       "  </thead>\n",
       "  <tbody>\n",
       "    <tr>\n",
       "      <th>2018-06-13</th>\n",
       "      <td>272.7390</td>\n",
       "      <td>102.6450</td>\n",
       "    </tr>\n",
       "    <tr>\n",
       "      <th>2018-06-14</th>\n",
       "      <td>273.4257</td>\n",
       "      <td>102.9075</td>\n",
       "    </tr>\n",
       "    <tr>\n",
       "      <th>2018-06-15</th>\n",
       "      <td>273.0765</td>\n",
       "      <td>102.9464</td>\n",
       "    </tr>\n",
       "    <tr>\n",
       "      <th>2018-06-18</th>\n",
       "      <td>272.5148</td>\n",
       "      <td>102.9658</td>\n",
       "    </tr>\n",
       "    <tr>\n",
       "      <th>2018-06-19</th>\n",
       "      <td>271.4703</td>\n",
       "      <td>103.0728</td>\n",
       "    </tr>\n",
       "  </tbody>\n",
       "</table>\n",
       "</div>"
      ],
      "text/plain": [
       "                 SPY       AGG\n",
       "               close     close\n",
       "date                          \n",
       "2018-06-13  272.7390  102.6450\n",
       "2018-06-14  273.4257  102.9075\n",
       "2018-06-15  273.0765  102.9464\n",
       "2018-06-18  272.5148  102.9658\n",
       "2018-06-19  271.4703  103.0728"
      ]
     },
     "execution_count": 6,
     "metadata": {},
     "output_type": "execute_result"
    }
   ],
   "source": [
    "df.head()"
   ]
  },
  {
   "cell_type": "markdown",
   "metadata": {},
   "source": [
    "# Monte Carlo Simulation\n",
    "\n",
    "In this step, you will run Monte Carlo Simulations for your portfolio to model portfolio performance at different retirement ages. \n",
    "\n",
    "Complete the following steps:\n",
    "1. Calculate the daily returns for the SPY and AGG closing prices.\n",
    "2. Calculate volatility for both the SPY and AGG closing prices.\n",
    "3. Find the last day's closing price for both stocks and save those as variables.\n",
    "4. Run a Monte Carlo Simulation of at least 100 iterations and generate at least 30 years of closing prices\n",
    "\n",
    "### HINTS:\n",
    "There are 252 trading days per year, so the number of records to generate for each Monte Carlo run will be 252 days * 30 years"
   ]
  },
  {
   "cell_type": "code",
   "execution_count": 7,
   "metadata": {},
   "outputs": [
    {
     "data": {
      "text/html": [
       "<div>\n",
       "<style scoped>\n",
       "    .dataframe tbody tr th:only-of-type {\n",
       "        vertical-align: middle;\n",
       "    }\n",
       "\n",
       "    .dataframe tbody tr th {\n",
       "        vertical-align: top;\n",
       "    }\n",
       "\n",
       "    .dataframe thead tr th {\n",
       "        text-align: left;\n",
       "    }\n",
       "\n",
       "    .dataframe thead tr:last-of-type th {\n",
       "        text-align: right;\n",
       "    }\n",
       "</style>\n",
       "<table border=\"1\" class=\"dataframe\">\n",
       "  <thead>\n",
       "    <tr>\n",
       "      <th></th>\n",
       "      <th>SPY</th>\n",
       "      <th>AGG</th>\n",
       "    </tr>\n",
       "    <tr>\n",
       "      <th></th>\n",
       "      <th>close</th>\n",
       "      <th>close</th>\n",
       "    </tr>\n",
       "    <tr>\n",
       "      <th>date</th>\n",
       "      <th></th>\n",
       "      <th></th>\n",
       "    </tr>\n",
       "  </thead>\n",
       "  <tbody>\n",
       "    <tr>\n",
       "      <th>2018-06-13</th>\n",
       "      <td>NaN</td>\n",
       "      <td>NaN</td>\n",
       "    </tr>\n",
       "    <tr>\n",
       "      <th>2018-06-14</th>\n",
       "      <td>0.002518</td>\n",
       "      <td>0.002557</td>\n",
       "    </tr>\n",
       "    <tr>\n",
       "      <th>2018-06-15</th>\n",
       "      <td>-0.001277</td>\n",
       "      <td>0.000378</td>\n",
       "    </tr>\n",
       "    <tr>\n",
       "      <th>2018-06-18</th>\n",
       "      <td>-0.002057</td>\n",
       "      <td>0.000188</td>\n",
       "    </tr>\n",
       "    <tr>\n",
       "      <th>2018-06-19</th>\n",
       "      <td>-0.003833</td>\n",
       "      <td>0.001039</td>\n",
       "    </tr>\n",
       "  </tbody>\n",
       "</table>\n",
       "</div>"
      ],
      "text/plain": [
       "                 SPY       AGG\n",
       "               close     close\n",
       "date                          \n",
       "2018-06-13       NaN       NaN\n",
       "2018-06-14  0.002518  0.002557\n",
       "2018-06-15 -0.001277  0.000378\n",
       "2018-06-18 -0.002057  0.000188\n",
       "2018-06-19 -0.003833  0.001039"
      ]
     },
     "execution_count": 7,
     "metadata": {},
     "output_type": "execute_result"
    }
   ],
   "source": [
    "# Calculate the daily roi for the stocks\n",
    "daily_returns = df.pct_change()\n",
    "daily_returns.head()"
   ]
  },
  {
   "cell_type": "code",
   "execution_count": 8,
   "metadata": {
    "collapsed": true,
    "jupyter": {
     "outputs_hidden": true
    }
   },
   "outputs": [],
   "source": [
    "# volatility\n",
    "daily_volatility = daily_returns.std()\n",
    "spy_volatility = daily_volatility['SPY']['close']\n",
    "agg_volatility = daily_volatility['AGG']['close']"
   ]
  },
  {
   "cell_type": "code",
   "execution_count": 9,
   "metadata": {
    "collapsed": true,
    "jupyter": {
     "outputs_hidden": true
    }
   },
   "outputs": [],
   "source": [
    "# Save the last day's closing price\n",
    "spy_last_price = df['SPY']['close'][-1]\n",
    "agg_last_price = df['AGG']['close'][-1]"
   ]
  },
  {
   "cell_type": "code",
   "execution_count": 10,
   "metadata": {
    "collapsed": true,
    "jupyter": {
     "outputs_hidden": true
    }
   },
   "outputs": [],
   "source": [
    "# Setup the Monte Carlo Parameters\n",
    "number_simulations = 500\n",
    "number_records = 252 * 30\n",
    "monte_carlo = pd.DataFrame()"
   ]
  },
  {
   "cell_type": "code",
   "execution_count": null,
   "metadata": {},
   "outputs": [],
   "source": [
    "# Run the Monte Carlo Simulation\n",
    "for x in range(number_simulations):\n",
    "    \n",
    "    print(f\"Running Simulation {x}...\")\n",
    "    \n",
    "    # Create the initial simulated prices array seeded with the last closing price\n",
    "    spy_prices = [spy_last_price]\n",
    "    agg_prices = [agg_last_price]\n",
    "    \n",
    "    # Simulate the returns for 20 years\n",
    "    for _ in range(number_records):\n",
    "        spy_prices.append(\n",
    "            spy_prices[-1] * (1 + np.random.normal(daily_returns.mean()['SPY']['close'], spy_volatility)))\n",
    "        agg_prices.append(\n",
    "            agg_prices[-1] * (1 + np.random.normal(daily_returns.mean()['AGG']['close'], agg_volatility)))\n",
    "\n",
    "    # Create a DataFrame of the simulated prices\n",
    "    portfolio = pd.DataFrame({\n",
    "        \"SPY Simulated Prices\": spy_prices,\n",
    "        \"AGG Simulated Prices\": agg_prices\n",
    "    })\n",
    "\n",
    "    # Calculate the Portfolio Daily Returns\n",
    "    portfolio_returns=portfolio.pct_change()\n",
    "    \n",
    "    # Set the Portfolio Weights (Assume a 60/40 stocks to bonds ratio)\n",
    "    stocks_weight = 0.60\n",
    "    bonds_weight = 0.40\n",
    "    \n",
    "    \n",
    "    # Calculate the weighted portfolio return: \n",
    "    portfolio_returns = stocks_weight * portfolio_returns['SPY Simulated Prices'] + bonds_weight * portfolio_returns['AGG Simulated Prices']\n",
    "    \n",
    "    # Calculate the normalized, cumulative return series\n",
    "    monte_carlo[x] = (1 + portfolio_returns.fillna(0)).cumprod()"
   ]
  },
  {
   "cell_type": "code",
   "execution_count": 12,
   "metadata": {},
   "outputs": [
    {
     "data": {
      "text/html": [
       "<div>\n",
       "<style scoped>\n",
       "    .dataframe tbody tr th:only-of-type {\n",
       "        vertical-align: middle;\n",
       "    }\n",
       "\n",
       "    .dataframe tbody tr th {\n",
       "        vertical-align: top;\n",
       "    }\n",
       "\n",
       "    .dataframe thead th {\n",
       "        text-align: right;\n",
       "    }\n",
       "</style>\n",
       "<table border=\"1\" class=\"dataframe\">\n",
       "  <thead>\n",
       "    <tr style=\"text-align: right;\">\n",
       "      <th></th>\n",
       "      <th>0</th>\n",
       "      <th>1</th>\n",
       "      <th>2</th>\n",
       "      <th>3</th>\n",
       "      <th>4</th>\n",
       "      <th>5</th>\n",
       "      <th>6</th>\n",
       "      <th>7</th>\n",
       "      <th>8</th>\n",
       "      <th>9</th>\n",
       "      <th>...</th>\n",
       "      <th>490</th>\n",
       "      <th>491</th>\n",
       "      <th>492</th>\n",
       "      <th>493</th>\n",
       "      <th>494</th>\n",
       "      <th>495</th>\n",
       "      <th>496</th>\n",
       "      <th>497</th>\n",
       "      <th>498</th>\n",
       "      <th>499</th>\n",
       "    </tr>\n",
       "  </thead>\n",
       "  <tbody>\n",
       "    <tr>\n",
       "      <th>0</th>\n",
       "      <td>1.000000</td>\n",
       "      <td>1.000000</td>\n",
       "      <td>1.000000</td>\n",
       "      <td>1.000000</td>\n",
       "      <td>1.000000</td>\n",
       "      <td>1.000000</td>\n",
       "      <td>1.000000</td>\n",
       "      <td>1.000000</td>\n",
       "      <td>1.000000</td>\n",
       "      <td>1.000000</td>\n",
       "      <td>...</td>\n",
       "      <td>1.000000</td>\n",
       "      <td>1.000000</td>\n",
       "      <td>1.000000</td>\n",
       "      <td>1.000000</td>\n",
       "      <td>1.000000</td>\n",
       "      <td>1.000000</td>\n",
       "      <td>1.000000</td>\n",
       "      <td>1.000000</td>\n",
       "      <td>1.000000</td>\n",
       "      <td>1.000000</td>\n",
       "    </tr>\n",
       "    <tr>\n",
       "      <th>1</th>\n",
       "      <td>1.003083</td>\n",
       "      <td>0.994375</td>\n",
       "      <td>0.991506</td>\n",
       "      <td>0.998755</td>\n",
       "      <td>1.005499</td>\n",
       "      <td>1.008685</td>\n",
       "      <td>1.011518</td>\n",
       "      <td>0.993910</td>\n",
       "      <td>1.001834</td>\n",
       "      <td>0.999059</td>\n",
       "      <td>...</td>\n",
       "      <td>1.002114</td>\n",
       "      <td>0.995057</td>\n",
       "      <td>1.008469</td>\n",
       "      <td>0.999412</td>\n",
       "      <td>0.997134</td>\n",
       "      <td>1.003193</td>\n",
       "      <td>0.994830</td>\n",
       "      <td>0.991472</td>\n",
       "      <td>1.003652</td>\n",
       "      <td>0.996858</td>\n",
       "    </tr>\n",
       "    <tr>\n",
       "      <th>2</th>\n",
       "      <td>1.008091</td>\n",
       "      <td>0.998469</td>\n",
       "      <td>0.989874</td>\n",
       "      <td>0.997995</td>\n",
       "      <td>1.009421</td>\n",
       "      <td>0.997138</td>\n",
       "      <td>1.004600</td>\n",
       "      <td>0.981056</td>\n",
       "      <td>1.000574</td>\n",
       "      <td>1.009379</td>\n",
       "      <td>...</td>\n",
       "      <td>1.004052</td>\n",
       "      <td>1.003635</td>\n",
       "      <td>1.011851</td>\n",
       "      <td>1.000812</td>\n",
       "      <td>0.998478</td>\n",
       "      <td>1.000002</td>\n",
       "      <td>0.993800</td>\n",
       "      <td>0.991846</td>\n",
       "      <td>1.003418</td>\n",
       "      <td>1.000820</td>\n",
       "    </tr>\n",
       "    <tr>\n",
       "      <th>3</th>\n",
       "      <td>1.006851</td>\n",
       "      <td>0.998258</td>\n",
       "      <td>0.993895</td>\n",
       "      <td>0.990382</td>\n",
       "      <td>1.008463</td>\n",
       "      <td>1.001232</td>\n",
       "      <td>1.008724</td>\n",
       "      <td>0.973896</td>\n",
       "      <td>0.999995</td>\n",
       "      <td>1.018468</td>\n",
       "      <td>...</td>\n",
       "      <td>1.003693</td>\n",
       "      <td>1.007256</td>\n",
       "      <td>1.017260</td>\n",
       "      <td>1.001947</td>\n",
       "      <td>0.990402</td>\n",
       "      <td>0.997908</td>\n",
       "      <td>0.997599</td>\n",
       "      <td>0.999033</td>\n",
       "      <td>1.007055</td>\n",
       "      <td>0.998654</td>\n",
       "    </tr>\n",
       "    <tr>\n",
       "      <th>4</th>\n",
       "      <td>1.016863</td>\n",
       "      <td>1.001324</td>\n",
       "      <td>0.988754</td>\n",
       "      <td>0.996855</td>\n",
       "      <td>1.009477</td>\n",
       "      <td>0.994432</td>\n",
       "      <td>1.006426</td>\n",
       "      <td>0.970718</td>\n",
       "      <td>1.009290</td>\n",
       "      <td>1.005132</td>\n",
       "      <td>...</td>\n",
       "      <td>1.005962</td>\n",
       "      <td>1.004395</td>\n",
       "      <td>1.015119</td>\n",
       "      <td>1.008582</td>\n",
       "      <td>0.997575</td>\n",
       "      <td>0.993953</td>\n",
       "      <td>0.990571</td>\n",
       "      <td>0.999321</td>\n",
       "      <td>1.012537</td>\n",
       "      <td>1.002614</td>\n",
       "    </tr>\n",
       "  </tbody>\n",
       "</table>\n",
       "<p>5 rows × 500 columns</p>\n",
       "</div>"
      ],
      "text/plain": [
       "        0         1         2         3         4         5         6    \\\n",
       "0  1.000000  1.000000  1.000000  1.000000  1.000000  1.000000  1.000000   \n",
       "1  1.003083  0.994375  0.991506  0.998755  1.005499  1.008685  1.011518   \n",
       "2  1.008091  0.998469  0.989874  0.997995  1.009421  0.997138  1.004600   \n",
       "3  1.006851  0.998258  0.993895  0.990382  1.008463  1.001232  1.008724   \n",
       "4  1.016863  1.001324  0.988754  0.996855  1.009477  0.994432  1.006426   \n",
       "\n",
       "        7         8         9    ...       490       491       492       493  \\\n",
       "0  1.000000  1.000000  1.000000  ...  1.000000  1.000000  1.000000  1.000000   \n",
       "1  0.993910  1.001834  0.999059  ...  1.002114  0.995057  1.008469  0.999412   \n",
       "2  0.981056  1.000574  1.009379  ...  1.004052  1.003635  1.011851  1.000812   \n",
       "3  0.973896  0.999995  1.018468  ...  1.003693  1.007256  1.017260  1.001947   \n",
       "4  0.970718  1.009290  1.005132  ...  1.005962  1.004395  1.015119  1.008582   \n",
       "\n",
       "        494       495       496       497       498       499  \n",
       "0  1.000000  1.000000  1.000000  1.000000  1.000000  1.000000  \n",
       "1  0.997134  1.003193  0.994830  0.991472  1.003652  0.996858  \n",
       "2  0.998478  1.000002  0.993800  0.991846  1.003418  1.000820  \n",
       "3  0.990402  0.997908  0.997599  0.999033  1.007055  0.998654  \n",
       "4  0.997575  0.993953  0.990571  0.999321  1.012537  1.002614  \n",
       "\n",
       "[5 rows x 500 columns]"
      ]
     },
     "execution_count": 12,
     "metadata": {},
     "output_type": "execute_result"
    }
   ],
   "source": [
    "# Check that the simulation ran successfully\n",
    "monte_carlo.head()"
   ]
  },
  {
   "cell_type": "code",
   "execution_count": 13,
   "metadata": {},
   "outputs": [
    {
     "data": {
      "text/plain": [
       "<matplotlib.axes._subplots.AxesSubplot at 0x11a8e5588>"
      ]
     },
     "execution_count": 13,
     "metadata": {},
     "output_type": "execute_result"
    },
    {
     "data": {
      "image/png": "[encoded data removed]",
      "text/plain": [
       "<Figure size 432x288 with 1 Axes>"
      ]
     },
     "metadata": {
      "needs_background": "light"
     },
     "output_type": "display_data"
    }
   ],
   "source": [
    "# Visualize the Simulation\n",
    "monte_carlo.plot(legend=None, title=\"Simulated Retirement Portfolio\")"
   ]
  },
  {
   "cell_type": "code",
   "execution_count": 14,
   "metadata": {},
   "outputs": [],
   "source": [
    "# Select the last row for the cumulative returns (cumulative returns at 20 years)\n",
    "ending_returns = monte_carlo.iloc[-1, :]"
   ]
  },
  {
   "cell_type": "code",
   "execution_count": 15,
   "metadata": {},
   "outputs": [
    {
     "data": {
      "text/html": [
       "<div>\n",
       "<style scoped>\n",
       "    .dataframe tbody tr th:only-of-type {\n",
       "        vertical-align: middle;\n",
       "    }\n",
       "\n",
       "    .dataframe tbody tr th {\n",
       "        vertical-align: top;\n",
       "    }\n",
       "\n",
       "    .dataframe thead th {\n",
       "        text-align: right;\n",
       "    }\n",
       "</style>\n",
       "<table border=\"1\" class=\"dataframe\">\n",
       "  <thead>\n",
       "    <tr style=\"text-align: right;\">\n",
       "      <th></th>\n",
       "      <th>7560</th>\n",
       "    </tr>\n",
       "  </thead>\n",
       "  <tbody>\n",
       "    <tr>\n",
       "      <th>0</th>\n",
       "      <td>8.629397</td>\n",
       "    </tr>\n",
       "    <tr>\n",
       "      <th>1</th>\n",
       "      <td>6.852970</td>\n",
       "    </tr>\n",
       "    <tr>\n",
       "      <th>2</th>\n",
       "      <td>10.134252</td>\n",
       "    </tr>\n",
       "    <tr>\n",
       "      <th>3</th>\n",
       "      <td>11.040280</td>\n",
       "    </tr>\n",
       "    <tr>\n",
       "      <th>4</th>\n",
       "      <td>9.587527</td>\n",
       "    </tr>\n",
       "  </tbody>\n",
       "</table>\n",
       "</div>"
      ],
      "text/plain": [
       "        7560\n",
       "0   8.629397\n",
       "1   6.852970\n",
       "2  10.134252\n",
       "3  11.040280\n",
       "4   9.587527"
      ]
     },
     "execution_count": 15,
     "metadata": {},
     "output_type": "execute_result"
    }
   ],
   "source": [
    "# Select the last row for the cumulative returns (cumulative returns at 20 years)\n",
    "ending_returns = monte_carlo.tail(1).T\n",
    "ending_returns.head()"
   ]
  },
  {
   "cell_type": "code",
   "execution_count": 16,
   "metadata": {},
   "outputs": [
    {
     "data": {
      "text/html": [
       "<div>\n",
       "<style scoped>\n",
       "    .dataframe tbody tr th:only-of-type {\n",
       "        vertical-align: middle;\n",
       "    }\n",
       "\n",
       "    .dataframe tbody tr th {\n",
       "        vertical-align: top;\n",
       "    }\n",
       "\n",
       "    .dataframe thead th {\n",
       "        text-align: right;\n",
       "    }\n",
       "</style>\n",
       "<table border=\"1\" class=\"dataframe\">\n",
       "  <thead>\n",
       "    <tr style=\"text-align: right;\">\n",
       "      <th></th>\n",
       "      <th>7560</th>\n",
       "    </tr>\n",
       "  </thead>\n",
       "  <tbody>\n",
       "    <tr>\n",
       "      <th>0.05</th>\n",
       "      <td>2.951375</td>\n",
       "    </tr>\n",
       "    <tr>\n",
       "      <th>0.95</th>\n",
       "      <td>16.019865</td>\n",
       "    </tr>\n",
       "  </tbody>\n",
       "</table>\n",
       "</div>"
      ],
      "text/plain": [
       "           7560\n",
       "0.05   2.951375\n",
       "0.95  16.019865"
      ]
     },
     "execution_count": 16,
     "metadata": {},
     "output_type": "execute_result"
    }
   ],
   "source": [
    "# Display the 90% confidence interval for the ending returns\n",
    "confidence_interval = ending_returns.quantile(q=[0.05, 0.95], numeric_only=True)\n",
    "confidence_interval"
   ]
  },
  {
   "cell_type": "code",
   "execution_count": 17,
   "metadata": {},
   "outputs": [
    {
     "data": {
      "text/plain": [
       "<matplotlib.lines.Line2D at 0x1297ea080>"
      ]
     },
     "execution_count": 17,
     "metadata": {},
     "output_type": "execute_result"
    },
    {
     "data": {
      "text/plain": [
       "<Figure size 432x288 with 0 Axes>"
      ]
     },
     "metadata": {},
     "output_type": "display_data"
    },
    {
     "data": {
      "image/png": "[encoded data removed]",
      "text/plain": [
       "<Figure size 432x288 with 1 Axes>"
      ]
     },
     "metadata": {
      "needs_background": "light"
     },
     "output_type": "display_data"
    }
   ],
   "source": [
    "# Visualize the distribution of the ending returns\n",
    "plt.figure();\n",
    "ending_returns.plot.hist(bins=50)\n",
    "plt.axvline(confidence_interval.iloc[0, 0], color='r')\n",
    "plt.axvline(confidence_interval.iloc[1, 0], color='r')"
   ]
  },
  {
   "cell_type": "markdown",
   "metadata": {},
   "source": [
    "---"
   ]
  },
  {
   "cell_type": "markdown",
   "metadata": {},
   "source": [
    "# Retirement Analysis\n",
    "\n",
    "In this section, you will use the monte carlo model to answer the following retirement planning questions:\n",
    "\n",
    "1. What are the expected cumulative returns at 30 years for the 10th, 50th, and 90th percentiles?\n",
    "2. Given an initial investment of `$20,000`, what is the expected portfolio return in dollars at the 10th, 50th, and 90th percentiles?\n",
    "3. Given the current projected annual income from the Plaid analysis, will a 4% withdraw rate from the retirement portfolio meet or exceed that value at the 10th percentile?\n",
    "4. How would a 50% increase in the initial investment amount affect the 4% retirement withdrawal?"
   ]
  },
  {
   "cell_type": "markdown",
   "metadata": {},
   "source": [
    "### What are the expected cumulative returns at 30 years for the 10th, 50th, and 90th percentiles?"
   ]
  },
  {
   "cell_type": "code",
   "execution_count": 18,
   "metadata": {},
   "outputs": [
    {
     "data": {
      "text/html": [
       "<div>\n",
       "<style scoped>\n",
       "    .dataframe tbody tr th:only-of-type {\n",
       "        vertical-align: middle;\n",
       "    }\n",
       "\n",
       "    .dataframe tbody tr th {\n",
       "        vertical-align: top;\n",
       "    }\n",
       "\n",
       "    .dataframe thead th {\n",
       "        text-align: right;\n",
       "    }\n",
       "</style>\n",
       "<table border=\"1\" class=\"dataframe\">\n",
       "  <thead>\n",
       "    <tr style=\"text-align: right;\">\n",
       "      <th></th>\n",
       "      <th>7560</th>\n",
       "    </tr>\n",
       "  </thead>\n",
       "  <tbody>\n",
       "    <tr>\n",
       "      <th>0.01</th>\n",
       "      <td>1.966594</td>\n",
       "    </tr>\n",
       "    <tr>\n",
       "      <th>0.50</th>\n",
       "      <td>6.987007</td>\n",
       "    </tr>\n",
       "    <tr>\n",
       "      <th>0.90</th>\n",
       "      <td>13.175201</td>\n",
       "    </tr>\n",
       "  </tbody>\n",
       "</table>\n",
       "</div>"
      ],
      "text/plain": [
       "           7560\n",
       "0.01   1.966594\n",
       "0.50   6.987007\n",
       "0.90  13.175201"
      ]
     },
     "execution_count": 18,
     "metadata": {},
     "output_type": "execute_result"
    }
   ],
   "source": [
    "ending_returns.quantile([.01, .5, .9])"
   ]
  },
  {
   "cell_type": "markdown",
   "metadata": {},
   "source": [
    "### Given an initial investment of `$20,000`, what is the expected portfolio return in dollars at the 10th, 50th, and 90th percentiles?"
   ]
  },
  {
   "cell_type": "code",
   "execution_count": 19,
   "metadata": {},
   "outputs": [
    {
     "data": {
      "text/html": [
       "<div>\n",
       "<style scoped>\n",
       "    .dataframe tbody tr th:only-of-type {\n",
       "        vertical-align: middle;\n",
       "    }\n",
       "\n",
       "    .dataframe tbody tr th {\n",
       "        vertical-align: top;\n",
       "    }\n",
       "\n",
       "    .dataframe thead th {\n",
       "        text-align: right;\n",
       "    }\n",
       "</style>\n",
       "<table border=\"1\" class=\"dataframe\">\n",
       "  <thead>\n",
       "    <tr style=\"text-align: right;\">\n",
       "      <th></th>\n",
       "      <th>7560</th>\n",
       "    </tr>\n",
       "  </thead>\n",
       "  <tbody>\n",
       "    <tr>\n",
       "      <th>0.01</th>\n",
       "      <td>39331.887211</td>\n",
       "    </tr>\n",
       "    <tr>\n",
       "      <th>0.50</th>\n",
       "      <td>139740.145341</td>\n",
       "    </tr>\n",
       "    <tr>\n",
       "      <th>0.90</th>\n",
       "      <td>263504.013505</td>\n",
       "    </tr>\n",
       "  </tbody>\n",
       "</table>\n",
       "</div>"
      ],
      "text/plain": [
       "               7560\n",
       "0.01   39331.887211\n",
       "0.50  139740.145341\n",
       "0.90  263504.013505"
      ]
     },
     "execution_count": 19,
     "metadata": {},
     "output_type": "execute_result"
    }
   ],
   "source": [
    "initial_investment = 20000 \n",
    "initial_investment * ending_returns.quantile([.01, .5, .9])"
   ]
  },
  {
   "cell_type": "markdown",
   "metadata": {},
   "source": [
    "### Given the current projected annual income from the Plaid analysis, will a 4% withdraw rate from the retirement portfolio meet or exceed that value at the 10th percentile?\n",
    "\n",
    "Note: This is effectively saying that 90% of the expected returns will be greater than the return at the 10th percentile, so this can help measure the uncertainty about having enough funds at retirement"
   ]
  },
  {
   "cell_type": "code",
   "execution_count": 20,
   "metadata": {},
   "outputs": [
    {
     "name": "stdout",
     "output_type": "stream",
     "text": [
      "You will have $3095.36 in retirement income which is not sufficient\n"
     ]
    }
   ],
   "source": [
    "plaid_projected_annual_income =  7389\n",
    "\n",
    "# Calculate the 4% withdrawal for the ending return as retirement income\n",
    "retirement_income = .04 * (initial_investment * ending_returns.quantile(.1)).iloc[0]\n",
    "\n",
    "# Determine if the retirement income meets or exceeds the current projected income\n",
    "if retirement_income >= plaid_projected_annual_income:\n",
    "    print(f\"You will have ${retirement_income:.2f} in retirement income which is sufficient\")\n",
    "else:\n",
    "    print(f\"You will have ${retirement_income:.2f} in retirement income which is not sufficient\")"
   ]
  },
  {
   "cell_type": "markdown",
   "metadata": {},
   "source": [
    "### How would a 50% increase in the initial investment amount affect the 4% retirement withdrawal?"
   ]
  },
  {
   "cell_type": "code",
   "execution_count": 21,
   "metadata": {},
   "outputs": [
    {
     "data": {
      "text/plain": [
       "4643.038573462852"
      ]
     },
     "execution_count": 21,
     "metadata": {},
     "output_type": "execute_result"
    }
   ],
   "source": [
    "# Re-calculate the retirement income with a 50% increase in the initial investment amount\n",
    ".04 * (1.5 * initial_investment * ending_returns.quantile(.1)).iloc[0]"
   ]
  },
  {
   "cell_type": "markdown",
   "metadata": {},
   "source": [
    "### Optional Challenge\n",
    "\n",
    "In this section, you will calculate and plot the cumulative returns for the median and 90% confidence intervals. This plot shows the expected cumulative returns for any given day between the first day and the last day of investment. "
   ]
  },
  {
   "cell_type": "code",
   "execution_count": 22,
   "metadata": {},
   "outputs": [
    {
     "data": {
      "text/html": [
       "<div>\n",
       "<style scoped>\n",
       "    .dataframe tbody tr th:only-of-type {\n",
       "        vertical-align: middle;\n",
       "    }\n",
       "\n",
       "    .dataframe tbody tr th {\n",
       "        vertical-align: top;\n",
       "    }\n",
       "\n",
       "    .dataframe thead th {\n",
       "        text-align: right;\n",
       "    }\n",
       "</style>\n",
       "<table border=\"1\" class=\"dataframe\">\n",
       "  <thead>\n",
       "    <tr style=\"text-align: right;\">\n",
       "      <th></th>\n",
       "      <th>0.05</th>\n",
       "      <th>0.5</th>\n",
       "      <th>0.95</th>\n",
       "    </tr>\n",
       "  </thead>\n",
       "  <tbody>\n",
       "    <tr>\n",
       "      <th>0</th>\n",
       "      <td>1.000000</td>\n",
       "      <td>1.000000</td>\n",
       "      <td>1.000000</td>\n",
       "    </tr>\n",
       "    <tr>\n",
       "      <th>1</th>\n",
       "      <td>0.990804</td>\n",
       "      <td>1.000359</td>\n",
       "      <td>1.010346</td>\n",
       "    </tr>\n",
       "    <tr>\n",
       "      <th>2</th>\n",
       "      <td>0.988008</td>\n",
       "      <td>1.000812</td>\n",
       "      <td>1.014196</td>\n",
       "    </tr>\n",
       "    <tr>\n",
       "      <th>3</th>\n",
       "      <td>0.984835</td>\n",
       "      <td>1.001241</td>\n",
       "      <td>1.018120</td>\n",
       "    </tr>\n",
       "    <tr>\n",
       "      <th>4</th>\n",
       "      <td>0.981904</td>\n",
       "      <td>1.001714</td>\n",
       "      <td>1.019833</td>\n",
       "    </tr>\n",
       "  </tbody>\n",
       "</table>\n",
       "</div>"
      ],
      "text/plain": [
       "       0.05      0.50      0.95\n",
       "0  1.000000  1.000000  1.000000\n",
       "1  0.990804  1.000359  1.010346\n",
       "2  0.988008  1.000812  1.014196\n",
       "3  0.984835  1.001241  1.018120\n",
       "4  0.981904  1.001714  1.019833"
      ]
     },
     "execution_count": 22,
     "metadata": {},
     "output_type": "execute_result"
    }
   ],
   "source": [
    "projected_returns = monte_carlo.quantile(q=[0.05, .5, .95], axis=1, numeric_only=True).T\n",
    "projected_returns.head()"
   ]
  },
  {
   "cell_type": "code",
   "execution_count": 23,
   "metadata": {},
   "outputs": [
    {
     "data": {
      "text/plain": [
       "<matplotlib.axes._subplots.AxesSubplot at 0x1299be0f0>"
      ]
     },
     "execution_count": 23,
     "metadata": {},
     "output_type": "execute_result"
    },
    {
     "data": {
      "image/png": "[encoded data removed]",
      "text/plain": [
       "<Figure size 432x288 with 1 Axes>"
      ]
     },
     "metadata": {
      "needs_background": "light"
     },
     "output_type": "display_data"
    }
   ],
   "source": [
    "projected_returns.plot(title=\"Cumulative Returns over Time (in days)\")"
   ]
  },
  {
   "cell_type": "code",
   "execution_count": 24,
   "metadata": {},
   "outputs": [
    {
     "data": {
      "text/plain": [
       "<matplotlib.axes._subplots.AxesSubplot at 0x12995bda0>"
      ]
     },
     "execution_count": 24,
     "metadata": {},
     "output_type": "execute_result"
    },
    {
     "data": {
      "image/png": "[encoded data removed]",
      "text/plain": [
       "<Figure size 432x288 with 1 Axes>"
      ]
     },
     "metadata": {
      "needs_background": "light"
     },
     "output_type": "display_data"
    }
   ],
   "source": [
    "(initial_investment * projected_returns).plot(title=\"Portfolio Performance over Time\")"
   ]
  }
 ],
 "metadata": {
  "kernelspec": {
   "display_name": "Python 3",
   "language": "python",
   "name": "python3"
  },
  "language_info": {
   "codemirror_mode": {
    "name": "ipython",
    "version": 3
   },
   "file_extension": ".py",
   "mimetype": "text/x-python",
   "name": "python",
   "nbconvert_exporter": "python",
   "pygments_lexer": "ipython3",
   "version": "3.7.3"
  }
 },
 "nbformat": 4,
 "nbformat_minor": 4
}
